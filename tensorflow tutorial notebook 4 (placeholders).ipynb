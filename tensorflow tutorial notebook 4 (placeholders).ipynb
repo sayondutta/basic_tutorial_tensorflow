{
 "cells": [
  {
   "cell_type": "code",
   "execution_count": 1,
   "metadata": {
    "collapsed": true
   },
   "outputs": [],
   "source": [
    "#placeholder basically is similar to variable but everytime the session runs the placeholder receives a new value\n",
    "#unlike the variable which needs initialization"
   ]
  },
  {
   "cell_type": "code",
   "execution_count": 8,
   "metadata": {
    "collapsed": true
   },
   "outputs": [],
   "source": [
    "import tensorflow as tf"
   ]
  },
  {
   "cell_type": "code",
   "execution_count": 9,
   "metadata": {
    "collapsed": true
   },
   "outputs": [],
   "source": [
    "input1 = tf.placeholder(tf.float32)   #2nd argument you can enter the shape of the placeholder e.g. if it's a matrix\n",
    "                                      #shape would be must\n",
    "input2 = tf.placeholder(tf.float32)   #tf.float32 will convert the type of the numbers assigned to the placeholders\n",
    "                                      #as float32"
   ]
  },
  {
   "cell_type": "code",
   "execution_count": 10,
   "metadata": {
    "collapsed": true
   },
   "outputs": [],
   "source": [
    "mul = tf.mul(input1,input2)"
   ]
  },
  {
   "cell_type": "code",
   "execution_count": 11,
   "metadata": {
    "collapsed": false
   },
   "outputs": [
    {
     "name": "stdout",
     "output_type": "stream",
     "text": [
      "Enter input_1:3\n",
      "Enter input_2:4\n",
      "('output:', array([ 12.], dtype=float32))\n",
      "Enter input_1:123\n",
      "Enter input_2:6\n",
      "('output:', array([ 738.], dtype=float32))\n",
      "Enter input_1:3456\n",
      "Enter input_2:1234\n",
      "('output:', array([ 4264704.], dtype=float32))\n"
     ]
    }
   ],
   "source": [
    "with tf.Session() as sess:\n",
    "    for _ in range(3):\n",
    "        a = raw_input('Enter input_1:')\n",
    "        b = raw_input('Enter input_2:')\n",
    "        print('output:',sess.run(mul,feed_dict={input1:[a],input2:[b]}))\n",
    "\n",
    "#feed_dict is normal python dictionary to feed the data to the placeholders which need data in form of list"
   ]
  },
  {
   "cell_type": "code",
   "execution_count": null,
   "metadata": {
    "collapsed": true
   },
   "outputs": [],
   "source": []
  }
 ],
 "metadata": {
  "kernelspec": {
   "display_name": "Python 2",
   "language": "python",
   "name": "python2"
  },
  "language_info": {
   "codemirror_mode": {
    "name": "ipython",
    "version": 2
   },
   "file_extension": ".py",
   "mimetype": "text/x-python",
   "name": "python",
   "nbconvert_exporter": "python",
   "pygments_lexer": "ipython2",
   "version": "2.7.6"
  }
 },
 "nbformat": 4,
 "nbformat_minor": 0
}
