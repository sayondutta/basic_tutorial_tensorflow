{
 "cells": [
  {
   "cell_type": "code",
   "execution_count": 1,
   "metadata": {
    "collapsed": true
   },
   "outputs": [],
   "source": [
    "import numpy as np\n",
    "import tensorflow as tf\n",
    "from matplotlib import pyplot as plt\n",
    "from matplotlib import animation"
   ]
  },
  {
   "cell_type": "code",
   "execution_count": 2,
   "metadata": {
    "collapsed": true
   },
   "outputs": [],
   "source": [
    "#create data\n",
    "x = np.random.rand(100).astype(np.float32)\n",
    "y = x*0.1+0.3"
   ]
  },
  {
   "cell_type": "code",
   "execution_count": 3,
   "metadata": {
    "collapsed": true
   },
   "outputs": [],
   "source": [
    "#create tensorflow start structure\n",
    "#basically this part creates the computational graph but not evaluates the operation\n",
    "weights = tf.Variable(tf.random_uniform([1],-1.0,1.0))  #length of weight 1, any random number b/w -1 to 1\n",
    "biases = tf.Variable(tf.zeros([1])) #length of bias 1, any random number\n",
    "\n",
    "y_pred=weights*x + biases  #y which would be predicted\n",
    "\n",
    "loss = tf.reduce_mean(tf.square(y-y_pred))   #declared the loss function\n",
    "optimizer = tf.train.GradientDescentOptimizer(0.5)   #SGD with learning rate being 0.5\n",
    "train = optimizer.minimize(loss)   #minimizing the loss using SGD\n",
    "\n",
    "init = tf.initialize_all_variables() #very important : initializing all variables as soon as the structure is made"
   ]
  },
  {
   "cell_type": "code",
   "execution_count": 14,
   "metadata": {
    "collapsed": false
   },
   "outputs": [],
   "source": [
    "#create tensorflow end structure\n",
    "\n",
    "sess=tf.Session()   #most important : Session is required to evaluate the steps mapped in the \n",
    "                    #computational graph addressing to specific part of the structure\n",
    "sess.run(init)\n",
    "\n",
    "fig = plt.figure(figsize=(12,9))\n",
    "ax = fig.add_subplot(1,1,1)\n",
    "plt.xlabel=\"Independent Variable\"\n",
    "plt.ylabel=\"Dependent Variable\"\n",
    "\n",
    "def animate(i):\n",
    "            sess.run(train)\n",
    "            xvar=x\n",
    "            yvar=sess.run(weights)*x+sess.run(biases)\n",
    "            ax.clear()\n",
    "            plt.scatter(x,y)\n",
    "            ax.plot(xvar,yvar)\n",
    "\n",
    "ani=animation.FuncAnimation(fig,animate,interval=500)\n",
    "plt.show()\n",
    "            \n",
    "\n",
    "#for step in range(500): #500 iterations\n",
    "#   sess.run(train)\n",
    "#   print(x,sess.run(weights)*x+sess.run(biases))"
   ]
  },
  {
   "cell_type": "code",
   "execution_count": null,
   "metadata": {
    "collapsed": true
   },
   "outputs": [],
   "source": []
  }
 ],
 "metadata": {
  "kernelspec": {
   "display_name": "Python 2",
   "language": "python",
   "name": "python2"
  },
  "language_info": {
   "codemirror_mode": {
    "name": "ipython",
    "version": 2
   },
   "file_extension": ".py",
   "mimetype": "text/x-python",
   "name": "python",
   "nbconvert_exporter": "python",
   "pygments_lexer": "ipython2",
   "version": "2.7.6"
  }
 },
 "nbformat": 4,
 "nbformat_minor": 0
}
