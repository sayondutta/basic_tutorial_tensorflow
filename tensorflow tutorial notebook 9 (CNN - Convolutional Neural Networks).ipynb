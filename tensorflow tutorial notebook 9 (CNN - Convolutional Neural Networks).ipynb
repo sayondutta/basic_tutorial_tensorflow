{
 "cells": [
  {
   "cell_type": "code",
   "execution_count": 1,
   "metadata": {
    "collapsed": true
   },
   "outputs": [],
   "source": [
    "import numpy as np\n",
    "import tensorflow as tf\n",
    "from __future__ import print_function\n",
    "from tensorflow.examples.tutorials.mnist import input_data"
   ]
  },
  {
   "cell_type": "code",
   "execution_count": 2,
   "metadata": {
    "collapsed": false,
    "scrolled": true
   },
   "outputs": [
    {
     "name": "stdout",
     "output_type": "stream",
     "text": [
      "Successfully downloaded train-images-idx3-ubyte.gz 9912422 bytes.\n",
      "Extracting MNIST/train-images-idx3-ubyte.gz\n",
      "Successfully downloaded train-labels-idx1-ubyte.gz 28881 bytes.\n",
      "Extracting MNIST/train-labels-idx1-ubyte.gz\n",
      "Successfully downloaded t10k-images-idx3-ubyte.gz 1648877 bytes.\n",
      "Extracting MNIST/t10k-images-idx3-ubyte.gz\n",
      "Successfully downloaded t10k-labels-idx1-ubyte.gz 4542 bytes.\n",
      "Extracting MNIST/t10k-labels-idx1-ubyte.gz\n"
     ]
    }
   ],
   "source": [
    "mnist = input_data.read_data_sets('MNIST',one_hot=True)"
   ]
  },
  {
   "cell_type": "code",
   "execution_count": 43,
   "metadata": {
    "collapsed": false
   },
   "outputs": [],
   "source": [
    "def add_layer(inputs,in_shape,out_shape,layer=None,activation_function=None,dropout=None):\n",
    "    W = weight_variable(in_shape)\n",
    "    b = bias_variable(out_shape)\n",
    "    if layer is \"conv\":\n",
    "        h_conv = activation_function(conv2d(inputs,W)+b)\n",
    "        h_pool = max_pool_2x2(h_conv)\n",
    "        return h_pool\n",
    "    wx_plus_b = tf.matmul(inputs,W)+b\n",
    "    output = activation_function(wx_plus_b)\n",
    "    if dropout is None:\n",
    "        return output\n",
    "    output_dropout = tf.nn.dropout(output,keep_prob)\n",
    "    return output_dropout"
   ]
  },
  {
   "cell_type": "code",
   "execution_count": 44,
   "metadata": {
    "collapsed": false
   },
   "outputs": [],
   "source": [
    "def compute_accuracy(x_v,y_v):\n",
    "    global prediction\n",
    "    ypred = sess.run(prediction,feed_dict={xs:x_v,keep_prob:1})\n",
    "    accurate_counts = tf.equal(tf.arg_max(y_v,1),tf.arg_max(ypred,1))\n",
    "    accuracy = tf.reduce_mean(tf.cast(accurate_counts,dtype=tf.float32))\n",
    "    results = sess.run(accuracy,feed_dict={xs:x_v,ys:y_v,keep_prob:1})\n",
    "    return results"
   ]
  },
  {
   "cell_type": "code",
   "execution_count": 45,
   "metadata": {
    "collapsed": true
   },
   "outputs": [],
   "source": [
    "def weight_variable(shape):\n",
    "    initial = tf.truncated_normal(shape, stddev=0.1)\n",
    "    return tf.Variable(initial)\n",
    "\n",
    "def bias_variable(shape):\n",
    "    initial = tf.constant(0.1, shape=shape)\n",
    "    return tf.Variable(initial)"
   ]
  },
  {
   "cell_type": "code",
   "execution_count": 46,
   "metadata": {
    "collapsed": true
   },
   "outputs": [],
   "source": [
    "def conv2d(x,W):\n",
    "    # stride [1,x_movement,y_movement,1]\n",
    "    # # Must have strides[0] = strides[3] = 1\n",
    "    return tf.nn.conv2d(x,W,strides=[1,1,1,1],padding='SAME')"
   ]
  },
  {
   "cell_type": "code",
   "execution_count": 47,
   "metadata": {
    "collapsed": true
   },
   "outputs": [],
   "source": [
    "def max_pool_2x2(x):\n",
    "    # stride [1,x_movement,y_movement,1]\n",
    "    return tf.nn.max_pool(x,ksize=[1,2,2,1],strides=[1,2,2,1],padding='SAME')"
   ]
  },
  {
   "cell_type": "code",
   "execution_count": 48,
   "metadata": {
    "collapsed": false
   },
   "outputs": [],
   "source": [
    "#input placeholders\n",
    "xs = tf.placeholder(tf.float32,[None,784])\n",
    "ys = tf.placeholder(tf.float32,[None,10])\n",
    "keep_prob = tf.placeholder(tf.float32)\n",
    "x_image = tf.reshape(xs,[-1,28,28,1])"
   ]
  },
  {
   "cell_type": "code",
   "execution_count": 49,
   "metadata": {
    "collapsed": false
   },
   "outputs": [],
   "source": [
    "##conv1 layer##\n",
    "h_conv_pool_1 = add_layer(x_image,[5,5,1,32],[32],activation_function=tf.nn.relu,layer='conv')\n",
    "# patch 5x5, in size 1, out size 32\n",
    "# output size 28x28x32  (from conv2d)\n",
    "# output size 14x14x32  (from max_pool_2x2)"
   ]
  },
  {
   "cell_type": "code",
   "execution_count": 50,
   "metadata": {
    "collapsed": true
   },
   "outputs": [],
   "source": [
    "##conv2 layer##\n",
    "h_conv_pool_2 = add_layer(h_conv_pool_1,[5,5,32,64],[64],activation_function=tf.nn.relu,layer='conv')\n",
    "# patch 5x5, in size 32, out size 64\n",
    "# output size 14x14x64 (from conv2d)\n",
    "# output size 7x7x64 (from conv2d)"
   ]
  },
  {
   "cell_type": "code",
   "execution_count": 51,
   "metadata": {
    "collapsed": false
   },
   "outputs": [],
   "source": [
    "##fc layer 1##\n",
    "h_conv_pool_2_flat = tf.reshape(h_conv_pool_2,[-1,7*7*64])\n",
    "fc_1 = add_layer(h_conv_pool_2_flat,[7*7*64,1024],[1024],activation_function=tf.nn.relu,dropout=True)"
   ]
  },
  {
   "cell_type": "code",
   "execution_count": 53,
   "metadata": {
    "collapsed": false
   },
   "outputs": [],
   "source": [
    "##fc layer 2##\n",
    "prediction = add_layer(fc_1,[1024,10],[10],activation_function=tf.nn.softmax)"
   ]
  },
  {
   "cell_type": "code",
   "execution_count": 54,
   "metadata": {
    "collapsed": true
   },
   "outputs": [],
   "source": [
    "cross_entropy = tf.reduce_mean(-tf.reduce_sum(ys*tf.log(prediction),reduction_indices=[1]))"
   ]
  },
  {
   "cell_type": "code",
   "execution_count": 55,
   "metadata": {
    "collapsed": true
   },
   "outputs": [],
   "source": [
    "training = tf.train.AdamOptimizer(1e-4).minimize(cross_entropy)"
   ]
  },
  {
   "cell_type": "code",
   "execution_count": 56,
   "metadata": {
    "collapsed": true
   },
   "outputs": [],
   "source": [
    "init = tf.initialize_all_variables()"
   ]
  },
  {
   "cell_type": "code",
   "execution_count": 57,
   "metadata": {
    "collapsed": true
   },
   "outputs": [],
   "source": [
    "sess = tf.Session()"
   ]
  },
  {
   "cell_type": "code",
   "execution_count": 71,
   "metadata": {
    "collapsed": true
   },
   "outputs": [],
   "source": [
    "sess.run(init)"
   ]
  },
  {
   "cell_type": "code",
   "execution_count": 72,
   "metadata": {
    "collapsed": false
   },
   "outputs": [
    {
     "name": "stdout",
     "output_type": "stream",
     "text": [
      "0.1049\n",
      "0.7941\n",
      "0.885\n",
      "0.9139\n",
      "0.9308\n",
      "0.9384\n",
      "0.9429\n",
      "0.9489\n",
      "0.9543\n",
      "0.9568\n",
      "0.9613\n",
      "0.9622\n",
      "0.9645\n",
      "0.9654\n",
      "0.9685\n",
      "0.9692\n",
      "0.9705\n",
      "0.9708\n",
      "0.9719\n",
      "0.9745\n"
     ]
    }
   ],
   "source": [
    "for i in range(1000):\n",
    "    batch_x,label_y = mnist.train.next_batch(200)\n",
    "    sess.run(training,feed_dict={xs:batch_x,ys:label_y,keep_prob:0.5})\n",
    "    if i%50==0:\n",
    "        print(compute_accuracy(mnist.test.images,mnist.test.labels))"
   ]
  },
  {
   "cell_type": "code",
   "execution_count": null,
   "metadata": {
    "collapsed": true
   },
   "outputs": [],
   "source": []
  }
 ],
 "metadata": {
  "kernelspec": {
   "display_name": "Python 2",
   "language": "python",
   "name": "python2"
  },
  "language_info": {
   "codemirror_mode": {
    "name": "ipython",
    "version": 2
   },
   "file_extension": ".py",
   "mimetype": "text/x-python",
   "name": "python",
   "nbconvert_exporter": "python",
   "pygments_lexer": "ipython2",
   "version": "2.7.6"
  }
 },
 "nbformat": 4,
 "nbformat_minor": 0
}
