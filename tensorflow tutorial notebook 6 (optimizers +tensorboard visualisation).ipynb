{
 "cells": [
  {
   "cell_type": "code",
   "execution_count": 1,
   "metadata": {
    "collapsed": true
   },
   "outputs": [],
   "source": [
    "import tensorflow as tf\n",
    "import numpy as np"
   ]
  },
  {
   "cell_type": "code",
   "execution_count": 2,
   "metadata": {
    "collapsed": false
   },
   "outputs": [
    {
     "data": {
      "text/plain": [
       "'\\nTensorflow optimizers:\\nclass tf.train.GradientDescentOptimizer   #for beginner : SGD is slowest\\nclass tf.train.AdadeltaOptimizer\\nclass tf.train.AdagradOptimizer\\nclass tf.train.AdagradDAOptimizer\\nclass tf.train.MomentumOptimizer   #adds momentum and updates learning rate\\nclass tf.train.AdamOptimizer\\nclass tf.train.FtrlOptimizer\\nclass tf.train.RMSPropOptimizer #for games like Atari they use RMS Optimizer\\n'"
      ]
     },
     "execution_count": 2,
     "metadata": {},
     "output_type": "execute_result"
    }
   ],
   "source": [
    "'''\n",
    "Tensorflow optimizers:\n",
    "class tf.train.GradientDescentOptimizer   #for beginner : SGD is slowest\n",
    "class tf.train.AdadeltaOptimizer\n",
    "class tf.train.AdagradOptimizer\n",
    "class tf.train.AdagradDAOptimizer\n",
    "class tf.train.MomentumOptimizer   #adds momentum and updates learning rate\n",
    "class tf.train.AdamOptimizer\n",
    "class tf.train.FtrlOptimizer\n",
    "class tf.train.RMSPropOptimizer #for games like Atari they use RMS Optimizer\n",
    "'''"
   ]
  },
  {
   "cell_type": "code",
   "execution_count": 3,
   "metadata": {
    "collapsed": true
   },
   "outputs": [],
   "source": [
    "#tensorboard tutorials below"
   ]
  },
  {
   "cell_type": "code",
   "execution_count": 4,
   "metadata": {
    "collapsed": false
   },
   "outputs": [],
   "source": [
    "import matplotlib\n",
    "import tensorflow as tf\n",
    "import numpy as np\n",
    "from matplotlib import pyplot as plt\n",
    "\n",
    "#defining the structure of a layer\n",
    "\n",
    "def add_layer(inputs,in_size,out_size,n_layer,activation_function=None):\n",
    "    with tf.name_scope('layer'):\n",
    "        layer_name = \"layer_%s\" % n_layer\n",
    "        #inputs from previous layer\n",
    "        #in_size: size(number of neurons) of previous layer\n",
    "        #out_size: size(number of neurons) of this layer\n",
    "        #activation_function: used in this layer\n",
    "        with tf.name_scope('Weights'):\n",
    "            Weights = tf.Variable(tf.random_normal([in_size,out_size]),name='W')\n",
    "            tf.histogram_summary(layer_name+\"/Weights\",Weights)\n",
    "        with tf.name_scope('biases'):\n",
    "            biases = tf.Variable(tf.zeros([1,out_size])+0.1,name='b')\n",
    "            tf.histogram_summary(layer_name+\"/biases\",biases)\n",
    "        with tf.name_scope('logit'):\n",
    "            logit = tf.matmul(inputs,Weights) + biases\n",
    "            tf.histogram_summary(layer_name+\"/logit\",logit)\n",
    "        if activation_function is None:\n",
    "            output = logit\n",
    "        else:\n",
    "            output = activation_function(logit,)\n",
    "        tf.histogram_summary(layer_name+\"/Output\",output)\n",
    "        return output\n",
    "\n",
    "#make up some real data\n",
    "x = np.linspace(-1,1,300)[:,np.newaxis]\n",
    "noise = np.random.normal(0,0.05,x.shape)\n",
    "y = np.square(x)-0.05+noise\n",
    "\n",
    "#define placeholder for inputs to network\n",
    "with tf.name_scope('inputs'):\n",
    "    xs = tf.placeholder(tf.float32,[None,1],name='x_input')  #numerous rows and 1 column : structure of x\n",
    "    ys = tf.placeholder(tf.float32,[None,1],name='y_input')  #numerous rows and 1 column : structure of y\n",
    "\n",
    "#add hidden layer\n",
    "layer1 = add_layer(xs,1,10,1,tf.nn.relu)#input size has one feature(unit)&the next hidden layer consists of 10 units\n",
    "\n",
    "#add output layer\n",
    "predicted = add_layer(layer1,10,1,2)#layer one had 10 units, output ys has 1 unit and since non linear regression\n",
    "                                  #therefore, no activation function (try and put some activation function and \n",
    "                                  #check the results)\n",
    "        \n",
    "#error between prediction and real data\n",
    "with tf.name_scope('loss'):\n",
    "    loss = tf.reduce_mean(tf.reduce_sum(tf.square(predicted-ys),reduction_indices=[1]))\n",
    "    tf.scalar_summary(\"loss\",loss)\n",
    "with tf.name_scope('train'):\n",
    "    training = tf.train.GradientDescentOptimizer(0.1).minimize(loss)  #0.1 is the learning rate, minimise the loss\n",
    "\n",
    "#important\n",
    "init = tf.initialize_all_variables()\n",
    "sess = tf.Session()\n",
    "\n",
    "merged = tf.merge_all_summaries()\n",
    "\n",
    "writer = tf.train.SummaryWriter(\"logs/\",sess.graph)\n",
    "\n",
    "sess.run(init)\n",
    "\n",
    "\n",
    "for step in range(1000):\n",
    "    sess.run(training,feed_dict={xs:x,ys:y})\n",
    "    if(step%50==0):\n",
    "        result = sess.run(merged,feed_dict={xs:x,ys:y})\n",
    "        writer.add_summary(result,step)"
   ]
  },
  {
   "cell_type": "code",
   "execution_count": 6,
   "metadata": {
    "collapsed": true
   },
   "outputs": [],
   "source": [
    "#in order to visualise the tensorboard\n",
    "#open the terminal and go to the directory containing the above logs folder/directory\n",
    "#$ tensorboard --logdir==\"logs\""
   ]
  },
  {
   "cell_type": "code",
   "execution_count": null,
   "metadata": {
    "collapsed": true
   },
   "outputs": [],
   "source": []
  }
 ],
 "metadata": {
  "kernelspec": {
   "display_name": "Python 2",
   "language": "python",
   "name": "python2"
  },
  "language_info": {
   "codemirror_mode": {
    "name": "ipython",
    "version": 2
   },
   "file_extension": ".py",
   "mimetype": "text/x-python",
   "name": "python",
   "nbconvert_exporter": "python",
   "pygments_lexer": "ipython2",
   "version": "2.7.6"
  }
 },
 "nbformat": 4,
 "nbformat_minor": 0
}
