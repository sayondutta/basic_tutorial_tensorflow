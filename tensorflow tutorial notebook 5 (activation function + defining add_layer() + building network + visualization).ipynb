{
 "cells": [
  {
   "cell_type": "code",
   "execution_count": 28,
   "metadata": {
    "collapsed": false
   },
   "outputs": [
    {
     "data": {
      "text/plain": [
       "\"\\nNeural Networks' Activation Function: for activation of the the Logits i.e.(Wx+B)\\nnumerous activation functions are:\\ntf.nn.relu(features,name=None)\\ntf.nn.relu6(features,name=None)\\ntf.nn.elu(features,name=None)\\ntf.nn.softplus(features,name=None)\\ntf.nn.softmax(features,name=None)\\ntf.nn.softsign(features,name=None)\\ntf.nn.dropout(x,keep_prob=,name=None)\\nand a lot more\\n\""
      ]
     },
     "execution_count": 28,
     "metadata": {},
     "output_type": "execute_result"
    }
   ],
   "source": [
    "'''\n",
    "Neural Networks' Activation Function: for activation of the the Logits i.e.(Wx+B)\n",
    "numerous activation functions are:\n",
    "tf.nn.relu(features,name=None)\n",
    "tf.nn.relu6(features,name=None)\n",
    "tf.nn.elu(features,name=None)\n",
    "tf.nn.softplus(features,name=None)\n",
    "tf.nn.softmax(features,name=None)\n",
    "tf.nn.softsign(features,name=None)\n",
    "tf.nn.dropout(x,keep_prob=,name=None)\n",
    "and a lot more\n",
    "'''"
   ]
  },
  {
   "cell_type": "code",
   "execution_count": 29,
   "metadata": {
    "collapsed": false
   },
   "outputs": [],
   "source": [
    "import matplotlib\n",
    "import tensorflow as tf\n",
    "import numpy as np\n",
    "from matplotlib import pyplot as plt"
   ]
  },
  {
   "cell_type": "code",
   "execution_count": 30,
   "metadata": {
    "collapsed": true
   },
   "outputs": [],
   "source": [
    "#defining the structure of a layer\n",
    "\n",
    "def add_layer(inputs,in_size,out_size,activation_function=None):\n",
    "    #inputs from previous layer\n",
    "    #in_size: size(number of neurons) of previous layer\n",
    "    #out_size: size(number of neurons) of this layer\n",
    "    #activation_function: used in this layer\n",
    "    Weights = tf.Variable(tf.random_normal([in_size,out_size]))\n",
    "    biases = tf.Variable(tf.zeros([1,out_size])+0.1)\n",
    "    logit = tf.matmul(inputs,Weights) + biases\n",
    "    if activation_function is None:\n",
    "        output = logit\n",
    "    else:\n",
    "        output = activation_function(logit)\n",
    "    return output"
   ]
  },
  {
   "cell_type": "code",
   "execution_count": 31,
   "metadata": {
    "collapsed": false
   },
   "outputs": [],
   "source": [
    "#make up some real data\n",
    "x = np.linspace(-1,1,300)[:,np.newaxis]\n",
    "noise = np.random.normal(0,0.05,x.shape)\n",
    "y = np.square(x)-0.05+noise"
   ]
  },
  {
   "cell_type": "code",
   "execution_count": 32,
   "metadata": {
    "collapsed": false
   },
   "outputs": [],
   "source": [
    "#plt.scatter(x,y)\n",
    "#plt.show()"
   ]
  },
  {
   "cell_type": "code",
   "execution_count": 33,
   "metadata": {
    "collapsed": false
   },
   "outputs": [],
   "source": [
    "#define placeholder for inputs to network\n",
    "xs = tf.placeholder(tf.float32,[None,1])  #numerous rows and 1 column : structure of x\n",
    "ys = tf.placeholder(tf.float32,[None,1])  #numerous rows and 1 column : structure of y"
   ]
  },
  {
   "cell_type": "code",
   "execution_count": 34,
   "metadata": {
    "collapsed": true
   },
   "outputs": [],
   "source": [
    "#add hidden layer\n",
    "layer1 = add_layer(xs,1,10,tf.nn.relu)#input size has one feature(unit)&the next hidden layer consists of 10 units"
   ]
  },
  {
   "cell_type": "code",
   "execution_count": 35,
   "metadata": {
    "collapsed": true
   },
   "outputs": [],
   "source": [
    "#add output layer\n",
    "predicted = add_layer(layer1,10,1)#layer one had 10 units, output ys has 1 unit and since non linear regression\n",
    "                                  #therefore, no activation function (try and put some activation function and \n",
    "                                  #check the results)"
   ]
  },
  {
   "cell_type": "code",
   "execution_count": 36,
   "metadata": {
    "collapsed": true
   },
   "outputs": [],
   "source": [
    "#error between prediction and real data\n",
    "loss = tf.reduce_mean(tf.reduce_sum(tf.square(predicted-ys),reduction_indices=[1]))\n",
    "training = tf.train.GradientDescentOptimizer(0.1).minimize(loss)  #0.1 is the learning rate, minimise the loss"
   ]
  },
  {
   "cell_type": "code",
   "execution_count": 37,
   "metadata": {
    "collapsed": false
   },
   "outputs": [],
   "source": [
    "#important\n",
    "init = tf.initialize_all_variables()\n",
    "sess = tf.Session()\n",
    "sess.run(init)"
   ]
  },
  {
   "cell_type": "code",
   "execution_count": 38,
   "metadata": {
    "collapsed": false
   },
   "outputs": [],
   "source": [
    "fig = plt.figure()\n",
    "ax = fig.add_subplot(1,1,1)  #1 row,1 column and 1 figure\n",
    "ax.scatter(x,y)\n",
    "plt.ion()\n",
    "plt.show()\n",
    "\n",
    "for i in range(1000):\n",
    "    #training\n",
    "    sess.run(training,feed_dict={xs:x,ys:y})\n",
    "    if i%50==0:\n",
    "        #to see step improvement\n",
    "        #print sess.run(loss,feed_dict={xs:x,ys:y})\n",
    "        try:\n",
    "            ax.lines.remove(lines[0])\n",
    "        except Exception:   #handles exception in the 1st case when there is no line but tries to remove that time\n",
    "            pass\n",
    "        y_predicted=sess.run(predicted,feed_dict={xs:x})\n",
    "        #plot that\n",
    "        lines=ax.plot(x,y_predicted,'r-',lw=5)\n",
    "        plt.pause(0.05)"
   ]
  },
  {
   "cell_type": "code",
   "execution_count": null,
   "metadata": {
    "collapsed": true
   },
   "outputs": [],
   "source": []
  }
 ],
 "metadata": {
  "kernelspec": {
   "display_name": "Python 2",
   "language": "python",
   "name": "python2"
  },
  "language_info": {
   "codemirror_mode": {
    "name": "ipython",
    "version": 2
   },
   "file_extension": ".py",
   "mimetype": "text/x-python",
   "name": "python",
   "nbconvert_exporter": "python",
   "pygments_lexer": "ipython2",
   "version": "2.7.6"
  }
 },
 "nbformat": 4,
 "nbformat_minor": 0
}
